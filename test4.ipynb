{
 "cells": [
  {
   "cell_type": "code",
   "execution_count": 1,
   "metadata": {
    "collapsed": false
   },
   "outputs": [
    {
     "name": "stderr",
     "output_type": "stream",
     "text": [
      "Using Theano backend.\n",
      "Using gpu device 0: GeForce GTX 950 (CNMeM is enabled with initial size: 80.0% of memory, cuDNN 5105)\n",
      "/home/yiyuezhuo/anaconda3/lib/python3.6/site-packages/theano/sandbox/cuda/__init__.py:600: UserWarning: Your cuDNN version is more recent than the one Theano officially supports. If you see any problems, try updating Theano or downgrading cuDNN to version 5.\n",
      "  warnings.warn(warn)\n"
     ]
    }
   ],
   "source": [
    "import numpy as np\n",
    "import random\n",
    "\n",
    "from keras.layers import Input,merge\n",
    "from keras.layers.core import Reshape, Dense, Dropout, Activation, Flatten\n",
    "from keras.layers.advanced_activations import LeakyReLU\n",
    "from keras.layers.convolutional import Cropping2D, Convolution2D, Deconvolution2D\n",
    "from keras.layers.normalization import BatchNormalization\n",
    "from keras.optimizers import Adam, SGD\n",
    "import keras\n",
    "from keras.models import Model\n",
    "\n",
    "from tqdm import tqdm\n"
   ]
  },
  {
   "cell_type": "code",
   "execution_count": 2,
   "metadata": {
    "collapsed": true
   },
   "outputs": [],
   "source": [
    "from sklearn.externals import joblib\n",
    "import numpy as np\n"
   ]
  },
  {
   "cell_type": "code",
   "execution_count": 3,
   "metadata": {
    "collapsed": true
   },
   "outputs": [],
   "source": [
    "Cropping2D?"
   ]
  },
  {
   "cell_type": "code",
   "execution_count": 4,
   "metadata": {
    "collapsed": true
   },
   "outputs": [],
   "source": [
    "import theano"
   ]
  },
  {
   "cell_type": "code",
   "execution_count": 5,
   "metadata": {
    "collapsed": true
   },
   "outputs": [],
   "source": [
    "i1 = i2 = 5\n",
    "k1 = k2 = 3\n",
    "#s1 = s2 = 1\n",
    "#p1 = p2 = 2"
   ]
  },
  {
   "cell_type": "code",
   "execution_count": 7,
   "metadata": {
    "collapsed": false
   },
   "outputs": [
    {
     "ename": "NameError",
     "evalue": "name 'filters' is not defined",
     "output_type": "error",
     "traceback": [
      "\u001b[0;31m---------------------------------------------------------------------------\u001b[0m",
      "\u001b[0;31mNameError\u001b[0m                                 Traceback (most recent call last)",
      "\u001b[0;32m<ipython-input-7-7dc9c2ddc3ad>\u001b[0m in \u001b[0;36m<module>\u001b[0;34m()\u001b[0m\n\u001b[1;32m      1\u001b[0m output = theano.tensor.nnet.conv2d(\n\u001b[0;32m----> 2\u001b[0;31m     \u001b[0minput\u001b[0m\u001b[0;34m,\u001b[0m \u001b[0mfilters\u001b[0m\u001b[0;34m,\u001b[0m \u001b[0minput_shape\u001b[0m\u001b[0;34m=\u001b[0m\u001b[0;34m(\u001b[0m\u001b[0mb\u001b[0m\u001b[0;34m,\u001b[0m \u001b[0mc2\u001b[0m\u001b[0;34m,\u001b[0m \u001b[0mi1\u001b[0m\u001b[0;34m,\u001b[0m \u001b[0mi2\u001b[0m\u001b[0;34m)\u001b[0m\u001b[0;34m,\u001b[0m \u001b[0mfilter_shape\u001b[0m\u001b[0;34m=\u001b[0m\u001b[0;34m(\u001b[0m\u001b[0mc1\u001b[0m\u001b[0;34m,\u001b[0m \u001b[0mc2\u001b[0m\u001b[0;34m,\u001b[0m \u001b[0mk1\u001b[0m\u001b[0;34m,\u001b[0m \u001b[0mk2\u001b[0m\u001b[0;34m)\u001b[0m\u001b[0;34m,\u001b[0m\u001b[0;34m\u001b[0m\u001b[0m\n\u001b[0m\u001b[1;32m      3\u001b[0m     border_mode='full', subsample=(1, 1))\n",
      "\u001b[0;31mNameError\u001b[0m: name 'filters' is not defined"
     ]
    }
   ],
   "source": [
    "output = theano.tensor.nnet.conv2d(\n",
    "    input, filters, input_shape=(b, c2, i1, i2), filter_shape=(c1, c2, k1, k2),\n",
    "    border_mode='full', subsample=(1, 1))\n"
   ]
  },
  {
   "cell_type": "code",
   "execution_count": 9,
   "metadata": {
    "collapsed": false
   },
   "outputs": [],
   "source": [
    "theano.tensor.nnet.conv2d?"
   ]
  },
  {
   "cell_type": "code",
   "execution_count": 13,
   "metadata": {
    "collapsed": true
   },
   "outputs": [],
   "source": [
    "theano.tensor."
   ]
  },
  {
   "cell_type": "code",
   "execution_count": 15,
   "metadata": {
    "collapsed": true
   },
   "outputs": [],
   "source": [
    "keras.layers.Deconvolution2D"
   ]
  },
  {
   "cell_type": "code",
   "execution_count": 20,
   "metadata": {
    "collapsed": true
   },
   "outputs": [],
   "source": [
    "def generator_block(input_node, input_shape, leaku_relu_alpha) :    \n",
    "    channels, height, width = input_shape\n",
    "    output_shape = (None, channels // 2, height * 2 + 2, width * 2 + 2)  \n",
    "    \n",
    "    block = Deconvolution2D(\n",
    "        output_shape[1], \n",
    "        4, 4, \n",
    "        output_shape = output_shape, \n",
    "        border_mode='valid', \n",
    "        init='glorot_uniform', \n",
    "        subsample = (2, 2),\n",
    "    )(input_node)\n",
    "    block = Cropping2D(((1, 1), (1, 1)))(block)\n",
    "    block = BatchNormalization(mode = 2)(block)\n",
    "    block = LeakyReLU(leaku_relu_alpha)(block)\n",
    "\n",
    "    return block\n",
    "\n",
    "\n",
    "def build_generator(initial_size = (3, 3), channels_count = 32 * 32, leaky_relu_alpha = 0.2) :\n",
    "    generator_input = Input(shape=[100])\n",
    "    \n",
    "    initial_height, initial_width = initial_size\n",
    "    \n",
    "    H = Dense(channels_count * initial_height * initial_width, init='glorot_normal')(generator_input)\n",
    "    H = BatchNormalization(mode = 2)(H)\n",
    "    H = LeakyReLU(0.2)(H)\n",
    "    H = Reshape([channels_count, initial_height, initial_width] )(H) # nch\n",
    "\n",
    "    # 4 layers result in x16 increased picture size, (3, 3) -> (48, 48)\n",
    "\n",
    "    H = generator_block(H, (channels_count, initial_height, initial_width), leaky_relu_alpha)\n",
    "    H = generator_block(H, (channels_count // 2 , initial_height * 2, initial_width * 2), leaky_relu_alpha)\n",
    "    H = generator_block(H, (channels_count // 4 , initial_height * 4, initial_width * 4), leaky_relu_alpha)\n",
    "    H = generator_block(H, (channels_count // 8 , initial_height * 8, initial_width * 8), leaky_relu_alpha)\n",
    "\n",
    "    H = Convolution2D(channels_count // 32, 3, 3, border_mode='same', init='glorot_uniform')(H)\n",
    "    H = BatchNormalization(mode = 2)(H)\n",
    "    H = LeakyReLU(leaky_relu_alpha)(H)\n",
    "\n",
    "    H = Convolution2D(3, 1, 1, border_mode='same', init='glorot_uniform')(H)\n",
    "    generator_output = Activation('tanh')(H)\n",
    "\n",
    "    generator = Model(generator_input, generator_output)\n",
    "    generator_output_shape = (3, initial_height * 16, initial_width * 16)\n",
    "\n",
    "    return generator, generator_input, generator_output_shape\n"
   ]
  },
  {
   "cell_type": "code",
   "execution_count": 21,
   "metadata": {
    "collapsed": false
   },
   "outputs": [],
   "source": [
    "generator, generator_input, generator_output_shape = build_generator()"
   ]
  },
  {
   "cell_type": "code",
   "execution_count": 22,
   "metadata": {
    "collapsed": false
   },
   "outputs": [
    {
     "name": "stdout",
     "output_type": "stream",
     "text": [
      "____________________________________________________________________________________________________\n",
      "Layer (type)                     Output Shape          Param #     Connected to                     \n",
      "====================================================================================================\n",
      "input_3 (InputLayer)             (None, 100)           0                                            \n",
      "____________________________________________________________________________________________________\n",
      "dense_3 (Dense)                  (None, 9216)          930816      input_3[0][0]                    \n",
      "____________________________________________________________________________________________________\n",
      "batchnormalization_3 (BatchNorma (None, 9216)          36864       dense_3[0][0]                    \n",
      "____________________________________________________________________________________________________\n",
      "leakyrelu_3 (LeakyReLU)          (None, 9216)          0           batchnormalization_3[0][0]       \n",
      "____________________________________________________________________________________________________\n",
      "reshape_3 (Reshape)              (None, 1024, 3, 3)    0           leakyrelu_3[0][0]                \n",
      "____________________________________________________________________________________________________\n",
      "deconvolution2d_3 (Deconvolution (None, 512, 8, 8)     8389120     reshape_3[0][0]                  \n",
      "____________________________________________________________________________________________________\n",
      "cropping2d_1 (Cropping2D)        (None, 512, 6, 6)     0           deconvolution2d_3[0][0]          \n",
      "____________________________________________________________________________________________________\n",
      "batchnormalization_4 (BatchNorma (None, 512, 6, 6)     24          cropping2d_1[0][0]               \n",
      "____________________________________________________________________________________________________\n",
      "leakyrelu_4 (LeakyReLU)          (None, 512, 6, 6)     0           batchnormalization_4[0][0]       \n",
      "____________________________________________________________________________________________________\n",
      "deconvolution2d_4 (Deconvolution (None, 256, 14, 14)   2097408     leakyrelu_4[0][0]                \n",
      "____________________________________________________________________________________________________\n",
      "cropping2d_2 (Cropping2D)        (None, 256, 12, 12)   0           deconvolution2d_4[0][0]          \n",
      "____________________________________________________________________________________________________\n",
      "batchnormalization_5 (BatchNorma (None, 256, 12, 12)   48          cropping2d_2[0][0]               \n",
      "____________________________________________________________________________________________________\n",
      "leakyrelu_5 (LeakyReLU)          (None, 256, 12, 12)   0           batchnormalization_5[0][0]       \n",
      "____________________________________________________________________________________________________\n",
      "deconvolution2d_5 (Deconvolution (None, 128, 26, 26)   524416      leakyrelu_5[0][0]                \n",
      "____________________________________________________________________________________________________\n",
      "cropping2d_3 (Cropping2D)        (None, 128, 24, 24)   0           deconvolution2d_5[0][0]          \n",
      "____________________________________________________________________________________________________\n",
      "batchnormalization_6 (BatchNorma (None, 128, 24, 24)   96          cropping2d_3[0][0]               \n",
      "____________________________________________________________________________________________________\n",
      "leakyrelu_6 (LeakyReLU)          (None, 128, 24, 24)   0           batchnormalization_6[0][0]       \n",
      "____________________________________________________________________________________________________\n",
      "deconvolution2d_6 (Deconvolution (None, 64, 50, 50)    131136      leakyrelu_6[0][0]                \n",
      "____________________________________________________________________________________________________\n",
      "cropping2d_4 (Cropping2D)        (None, 64, 48, 48)    0           deconvolution2d_6[0][0]          \n",
      "____________________________________________________________________________________________________\n",
      "batchnormalization_7 (BatchNorma (None, 64, 48, 48)    192         cropping2d_4[0][0]               \n",
      "____________________________________________________________________________________________________\n",
      "leakyrelu_7 (LeakyReLU)          (None, 64, 48, 48)    0           batchnormalization_7[0][0]       \n",
      "____________________________________________________________________________________________________\n",
      "convolution2d_1 (Convolution2D)  (None, 32, 48, 48)    18464       leakyrelu_7[0][0]                \n",
      "____________________________________________________________________________________________________\n",
      "batchnormalization_8 (BatchNorma (None, 32, 48, 48)    192         convolution2d_1[0][0]            \n",
      "____________________________________________________________________________________________________\n",
      "leakyrelu_8 (LeakyReLU)          (None, 32, 48, 48)    0           batchnormalization_8[0][0]       \n",
      "____________________________________________________________________________________________________\n",
      "convolution2d_2 (Convolution2D)  (None, 3, 48, 48)     99          leakyrelu_8[0][0]                \n",
      "____________________________________________________________________________________________________\n",
      "activation_1 (Activation)        (None, 3, 48, 48)     0           convolution2d_2[0][0]            \n",
      "====================================================================================================\n",
      "Total params: 12,128,875\n",
      "Trainable params: 12,110,167\n",
      "Non-trainable params: 18,708\n",
      "____________________________________________________________________________________________________\n"
     ]
    }
   ],
   "source": [
    "generator.summary()"
   ]
  },
  {
   "cell_type": "code",
   "execution_count": null,
   "metadata": {
    "collapsed": true
   },
   "outputs": [],
   "source": []
  }
 ],
 "metadata": {
  "kernelspec": {
   "display_name": "Python 3",
   "language": "python",
   "name": "python3"
  },
  "language_info": {
   "codemirror_mode": {
    "name": "ipython",
    "version": 3
   },
   "file_extension": ".py",
   "mimetype": "text/x-python",
   "name": "python",
   "nbconvert_exporter": "python",
   "pygments_lexer": "ipython3",
   "version": "3.6.0"
  }
 },
 "nbformat": 4,
 "nbformat_minor": 2
}
